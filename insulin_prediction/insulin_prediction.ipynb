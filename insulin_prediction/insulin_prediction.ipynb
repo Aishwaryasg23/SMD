{
 "cells": [
  {
   "cell_type": "markdown",
   "id": "7f057371-ecbf-4e61-bed9-1a805f9e52c3",
   "metadata": {},
   "source": [
    "# Insulin Dosage Prediction\n"
   ]
  },
  {
   "cell_type": "code",
   "execution_count": 18,
   "id": "39315614",
   "metadata": {},
   "outputs": [],
   "source": [
    "import pandas as pd\n",
    "import numpy as np\n",
    "from sklearn.model_selection import train_test_split\n",
    "from sklearn.tree import DecisionTreeClassifier\n",
    "from sklearn.metrics import accuracy_score\n",
    "import joblib"
   ]
  },
  {
   "cell_type": "code",
   "execution_count": 19,
   "id": "861ef83b-502e-4812-937a-fc5eb2840bf8",
   "metadata": {},
   "outputs": [],
   "source": [
    "file_path = \"large_insulin_sliding_scale.csv\"  \n",
    "df = pd.read_csv(file_path)\n"
   ]
  },
  {
   "cell_type": "code",
   "execution_count": 20,
   "id": "4bae798f-d4ff-4bd5-af27-0d26e5cdd9a2",
   "metadata": {},
   "outputs": [
    {
     "name": "stdout",
     "output_type": "stream",
     "text": [
      "   Blood Glucose (mg/dL) Insulin Dosage (Units)\n",
      "0                    152                      4\n",
      "1                    485                     14\n",
      "2                    398                     14\n",
      "3                    320                     12\n",
      "4                    156                      4\n"
     ]
    }
   ],
   "source": [
    "print(df.head())"
   ]
  },
  {
   "cell_type": "code",
   "execution_count": 21,
   "id": "634bb26c-ae29-403b-a9da-eb27d320caa5",
   "metadata": {},
   "outputs": [
    {
     "data": {
      "text/html": [
       "<div>\n",
       "<style scoped>\n",
       "    .dataframe tbody tr th:only-of-type {\n",
       "        vertical-align: middle;\n",
       "    }\n",
       "\n",
       "    .dataframe tbody tr th {\n",
       "        vertical-align: top;\n",
       "    }\n",
       "\n",
       "    .dataframe thead th {\n",
       "        text-align: right;\n",
       "    }\n",
       "</style>\n",
       "<table border=\"1\" class=\"dataframe\">\n",
       "  <thead>\n",
       "    <tr style=\"text-align: right;\">\n",
       "      <th></th>\n",
       "      <th>Blood Glucose (mg/dL)</th>\n",
       "      <th>Insulin Dosage (Units)</th>\n",
       "    </tr>\n",
       "  </thead>\n",
       "  <tbody>\n",
       "    <tr>\n",
       "      <th>0</th>\n",
       "      <td>152</td>\n",
       "      <td>4</td>\n",
       "    </tr>\n",
       "    <tr>\n",
       "      <th>1</th>\n",
       "      <td>485</td>\n",
       "      <td>14</td>\n",
       "    </tr>\n",
       "    <tr>\n",
       "      <th>2</th>\n",
       "      <td>398</td>\n",
       "      <td>14</td>\n",
       "    </tr>\n",
       "    <tr>\n",
       "      <th>3</th>\n",
       "      <td>320</td>\n",
       "      <td>12</td>\n",
       "    </tr>\n",
       "    <tr>\n",
       "      <th>4</th>\n",
       "      <td>156</td>\n",
       "      <td>4</td>\n",
       "    </tr>\n",
       "    <tr>\n",
       "      <th>...</th>\n",
       "      <td>...</td>\n",
       "      <td>...</td>\n",
       "    </tr>\n",
       "    <tr>\n",
       "      <th>995</th>\n",
       "      <td>79</td>\n",
       "      <td>No Insulin</td>\n",
       "    </tr>\n",
       "    <tr>\n",
       "      <th>996</th>\n",
       "      <td>296</td>\n",
       "      <td>10</td>\n",
       "    </tr>\n",
       "    <tr>\n",
       "      <th>997</th>\n",
       "      <td>155</td>\n",
       "      <td>4</td>\n",
       "    </tr>\n",
       "    <tr>\n",
       "      <th>998</th>\n",
       "      <td>100</td>\n",
       "      <td>No Insulin</td>\n",
       "    </tr>\n",
       "    <tr>\n",
       "      <th>999</th>\n",
       "      <td>130</td>\n",
       "      <td>No Insulin</td>\n",
       "    </tr>\n",
       "  </tbody>\n",
       "</table>\n",
       "<p>1000 rows × 2 columns</p>\n",
       "</div>"
      ],
      "text/plain": [
       "     Blood Glucose (mg/dL) Insulin Dosage (Units)\n",
       "0                      152                      4\n",
       "1                      485                     14\n",
       "2                      398                     14\n",
       "3                      320                     12\n",
       "4                      156                      4\n",
       "..                     ...                    ...\n",
       "995                     79             No Insulin\n",
       "996                    296                     10\n",
       "997                    155                      4\n",
       "998                    100             No Insulin\n",
       "999                    130             No Insulin\n",
       "\n",
       "[1000 rows x 2 columns]"
      ]
     },
     "execution_count": 21,
     "metadata": {},
     "output_type": "execute_result"
    }
   ],
   "source": [
    "df"
   ]
  },
  {
   "cell_type": "code",
   "execution_count": 22,
   "id": "9c2606a6-811f-49e0-a5f6-46234e2d5ca1",
   "metadata": {},
   "outputs": [],
   "source": [
    "#No Insulin to 0 \n",
    "df[\"Insulin Dosage (Units)\"] = df[\"Insulin Dosage (Units)\"].replace(\"No Insulin\", 0).astype(int)\n",
    "\n",
    "X = df[[\"Blood Glucose (mg/dL)\"]] \n",
    "y = df[\"Insulin Dosage (Units)\"] \n"
   ]
  },
  {
   "cell_type": "code",
   "execution_count": 23,
   "id": "f1dca0fc-daae-4f5a-aea4-7445d6308dd3",
   "metadata": {},
   "outputs": [
    {
     "name": "stdout",
     "output_type": "stream",
     "text": [
      "Model Accuracy: 100.00%\n"
     ]
    },
    {
     "data": {
      "text/plain": [
       "['insulin_prediction_model.pkl']"
      ]
     },
     "execution_count": 23,
     "metadata": {},
     "output_type": "execute_result"
    }
   ],
   "source": [
    "X_train, X_test, y_train, y_test = train_test_split(X, y, test_size=0.2, random_state=42)\n",
    "\n",
    "model = DecisionTreeClassifier()\n",
    "model.fit(X_train, y_train)\n",
    "\n",
    "\n",
    "y_pred = model.predict(X_test)\n",
    "\n",
    "\n",
    "accuracy = accuracy_score(y_test, y_pred)\n",
    "print(f\"Model Accuracy: {accuracy * 100:.2f}%\")\n",
    "\n",
    "\n",
    "model_filename = \"insulin_prediction_model.pkl\"\n",
    "joblib.dump(model, model_filename)"
   ]
  },
  {
   "cell_type": "code",
   "execution_count": 24,
   "id": "b619a902-d2e3-48bf-ac89-3da29f87f2e9",
   "metadata": {},
   "outputs": [
    {
     "name": "stdout",
     "output_type": "stream",
     "text": [
      "Trained model saved as insulin_prediction_model.pkl\n"
     ]
    }
   ],
   "source": [
    "print(f\"Trained model saved as {model_filename}\")"
   ]
  },
  {
   "cell_type": "code",
   "execution_count": 25,
   "id": "2ad27754-b209-45ce-9f39-82099dd1a21c",
   "metadata": {},
   "outputs": [],
   "source": [
    "import joblib\n",
    "import pandas as pd\n",
    "\n",
    "# Load the trained model\n",
    "model = joblib.load(\"insulin_prediction_model.pkl\")\n",
    "\n",
    "def get_insulin_dosage():\n",
    "    blood_glucose = float(input(\"Enter your blood glucose level (mg/dL): \"))\n",
    "\n",
    "    if blood_glucose > 350:\n",
    "        print(\" Warning: Blood glucose is critically high! Seek medical attention immediately.\")\n",
    "        return  \n",
    "\n",
    "    input_data = pd.DataFrame([[blood_glucose]], columns=[\"Blood Glucose (mg/dL)\"])\n",
    "\n",
    "    predicted_insulin = model.predict(input_data)\n",
    "\n",
    "    print(f\"Recommended Insulin Dosage: {predicted_insulin[0]} units\")\n"
   ]
  },
  {
   "cell_type": "code",
   "execution_count": 26,
   "id": "18599aed-c7fb-4728-a64d-cbed2c51cfa4",
   "metadata": {},
   "outputs": [
    {
     "name": "stdin",
     "output_type": "stream",
     "text": [
      "Enter your blood glucose level (mg/dL):  123\n"
     ]
    },
    {
     "name": "stdout",
     "output_type": "stream",
     "text": [
      "Recommended Insulin Dosage: 0 units\n"
     ]
    }
   ],
   "source": [
    "get_insulin_dosage()"
   ]
  },
  {
   "cell_type": "code",
   "execution_count": null,
   "id": "f771e63e-82e4-4c57-a2ab-dff282101db4",
   "metadata": {},
   "outputs": [],
   "source": []
  }
 ],
 "metadata": {
  "kernelspec": {
   "display_name": "Python 3 (ipykernel)",
   "language": "python",
   "name": "python3"
  },
  "language_info": {
   "codemirror_mode": {
    "name": "ipython",
    "version": 3
   },
   "file_extension": ".py",
   "mimetype": "text/x-python",
   "name": "python",
   "nbconvert_exporter": "python",
   "pygments_lexer": "ipython3",
   "version": "3.12.4"
  }
 },
 "nbformat": 4,
 "nbformat_minor": 5
}
